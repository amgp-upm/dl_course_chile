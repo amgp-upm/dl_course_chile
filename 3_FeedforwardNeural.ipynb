{
  "cells": [
    {
      "cell_type": "markdown",
      "metadata": {},
      "source": [
        "[![Open In Colab](https://colab.research.google.com/assets/colab-badge.svg)](https://colab.research.google.com/github/amgp-upm/dl_course_chile/blob/main/3_FeedforwardNeural.ipynb)"
      ]
    },
    {
      "cell_type": "code",
      "execution_count": 35,
      "metadata": {
        "id": "rguRYkSxeQFu"
      },
      "outputs": [],
      "source": [
        "import torch\n",
        "import torch.nn as nn\n",
        "import torchvision.transforms as transforms\n",
        "import torchvision.datasets as datasets\n",
        "from torch.utils.data import SubsetRandomSampler\n",
        "\n",
        "try:\n",
        "    from torchinfo import summary\n",
        "except ImportError:\n",
        "    ! pip install torchinfo\n",
        "    from torchinfo import summary\n",
        "\n",
        "import numpy as np\n",
        "import matplotlib.pyplot as plt\n",
        "from tqdm import tqdm\n",
        "import os\n",
        "\n",
        "from sklearn.metrics import classification_report"
      ]
    },
    {
      "cell_type": "markdown",
      "metadata": {
        "id": "vANzcP3KuakJ"
      },
      "source": [
        "### Descarga del dataset"
      ]
    },
    {
      "cell_type": "code",
      "execution_count": 37,
      "metadata": {
        "id": "NFLlh8SjeazV"
      },
      "outputs": [],
      "source": [
        "train_dataset = datasets.MNIST(root='./data', train=True, \n",
        "                               transform=transforms.ToTensor(), download=True)\n",
        "\n",
        "test_dataset = datasets.MNIST(root='./data', train=False, \n",
        "                              transform=transforms.ToTensor())"
      ]
    },
    {
      "cell_type": "markdown",
      "metadata": {
        "id": "oQivtINXugh6"
      },
      "source": [
        "### Visualización de un ejemplo de un ejemplo"
      ]
    },
    {
      "cell_type": "code",
      "execution_count": 38,
      "metadata": {
        "colab": {
          "base_uri": "https://localhost:8080/",
          "height": 315
        },
        "id": "xM3DPjNzenL3",
        "outputId": "7faa2667-3ed0-43f1-90cb-f1a66f6295e9"
      },
      "outputs": [
        {
          "name": "stdout",
          "output_type": "stream",
          "text": [
            "# Train images: 60000\n",
            "# Test images: 10000\n"
          ]
        },
        {
          "data": {
            "image/png": "[encoded data removed]",
            "text/plain": [
              "<Figure size 432x288 with 1 Axes>"
            ]
          },
          "metadata": {
            "needs_background": "light"
          },
          "output_type": "display_data"
        }
      ],
      "source": [
        "num_train_images = len(train_dataset)\n",
        "num_test_images = len(test_dataset)\n",
        "\n",
        "print(f'# Train images: {num_train_images}')\n",
        "print(f'# Test images: {num_test_images}')\n",
        "\n",
        "idx = np.random.choice(range(num_train_images))\n",
        "\n",
        "image = train_dataset[idx][0]\n",
        "label = train_dataset[idx][1]\n",
        "\n",
        "plt.imshow(np.squeeze(image.numpy()), cmap='gray')\n",
        "plt.title(f'Label: {label}')\n",
        "plt.show()"
      ]
    },
    {
      "cell_type": "markdown",
      "metadata": {
        "id": "cBI0aHsju8cF"
      },
      "source": [
        "### Dataloader\n",
        "\n",
        "El DataLoader es una herramienta importante para preparar, gestionar y servir los datos a las redes de aprendizaje profundo. "
      ]
    },
    {
      "cell_type": "code",
      "execution_count": 51,
      "metadata": {
        "id": "FrGtP69xgajE"
      },
      "outputs": [],
      "source": [
        "batch_size = 100\n",
        "num_epochs = 100\n",
        "run_dry = False # Si True solamente utiliza una pequeña parte del conjunto de datos.\n",
        "\n",
        "if run_dry:\n",
        "    train_sampler = SubsetRandomSampler(range(len(train_dataset))[:batch_size * 2])\n",
        "    test_sampler = SubsetRandomSampler(range(len(test_dataset))[:batch_size * 2])\n",
        "    train_loader = torch.utils.data.DataLoader(dataset=train_dataset, \n",
        "                                              batch_size=batch_size, \n",
        "                                              sampler=train_sampler)\n",
        "\n",
        "    test_loader = torch.utils.data.DataLoader(dataset=test_dataset, \n",
        "                                              batch_size=batch_size, \n",
        "                                              shuffle=False, \n",
        "                                              sampler=test_sampler\n",
        "                                              )\n",
        "else:\n",
        "    train_loader = torch.utils.data.DataLoader(dataset=train_dataset, \n",
        "                                              batch_size=batch_size, \n",
        "                                               shuffle=True) \n",
        "\n",
        "    test_loader = torch.utils.data.DataLoader(dataset=test_dataset, \n",
        "                                              batch_size=batch_size, \n",
        "                                              shuffle=False\n",
        "                                              )"
      ]
    },
    {
      "cell_type": "markdown",
      "metadata": {
        "id": "mBlBxF0SuXAl"
      },
      "source": [
        "### Visualización de ejemplos aleatorios de un batch"
      ]
    },
    {
      "cell_type": "code",
      "execution_count": 52,
      "metadata": {
        "colab": {
          "base_uri": "https://localhost:8080/",
          "height": 477
        },
        "id": "CyKH_Zs7rHco",
        "outputId": "59c9856c-544e-4850-ee54-524896e5072f"
      },
      "outputs": [
        {
          "data": {
            "image/png": "[encoded data removed]",
            "text/plain": [
              "<Figure size 1440x576 with 10 Axes>"
            ]
          },
          "metadata": {
            "needs_background": "light"
          },
          "output_type": "display_data"
        }
      ],
      "source": [
        "num_samples = 10\n",
        "rand_samples = np.random.choice(batch_size, num_samples)\n",
        "\n",
        "batch = next(iter(train_loader))\n",
        "images, labels = batch\n",
        "\n",
        "fig = plt.figure(figsize=(20, 8))\n",
        "for i in range(num_samples):\n",
        "    image = np.squeeze(images[i].numpy())\n",
        "    label = labels[i]\n",
        "    ax = fig.add_subplot(2, 5, i+1)\n",
        "    ax.set_title(f\"Label: {label}\")\n",
        "    ax.axis('off')\n",
        "    ax.imshow(image, cmap='gray')\n",
        "plt.show()"
      ]
    },
    {
      "cell_type": "markdown",
      "metadata": {
        "id": "_jj1p460vlN3"
      },
      "source": [
        "### Modelo"
      ]
    },
    {
      "cell_type": "code",
      "execution_count": 53,
      "metadata": {
        "id": "kESx_-9Jrbfg"
      },
      "outputs": [],
      "source": [
        "class FeedforwardNeuralNetModel(nn.Module):\n",
        "    def __init__(self, input_dim, hidden_dim, output_dim):\n",
        "        super(FeedforwardNeuralNetModel, self).__init__()\n",
        "        self.fc1 = nn.Linear(input_dim, hidden_dim) \n",
        "        self.sigmoid = nn.Sigmoid()\n",
        "        self.fc2 = nn.Linear(hidden_dim, output_dim)  \n",
        "\n",
        "    def forward(self, x):\n",
        "        out = self.fc1(x)\n",
        "        out = self.sigmoid(out)\n",
        "        out = self.fc2(out)\n",
        "        return out"
      ]
    },
    {
      "cell_type": "markdown",
      "metadata": {
        "id": "EP8IWNB4v66j"
      },
      "source": [
        "Intanciación del modelo"
      ]
    },
    {
      "cell_type": "code",
      "execution_count": 54,
      "metadata": {
        "colab": {
          "base_uri": "https://localhost:8080/"
        },
        "id": "rfmPzO5H0UkN",
        "outputId": "b43ebe97-4779-4892-e04f-fd4afca766b9"
      },
      "outputs": [
        {
          "name": "stdout",
          "output_type": "stream",
          "text": [
            "Forma de cálculo: cuda:0\n"
          ]
        },
        {
          "data": {
            "text/plain": [
              "<torch._C.Generator at 0x7fd09a7cba10>"
            ]
          },
          "execution_count": 54,
          "metadata": {},
          "output_type": "execute_result"
        }
      ],
      "source": [
        "device = torch.device(\"cuda:0\" if torch.cuda.is_available() else \"cpu\")\n",
        "print(f'Forma de cálculo: {device}')\n",
        "\n",
        "torch.manual_seed(23)"
      ]
    },
    {
      "cell_type": "code",
      "execution_count": 55,
      "metadata": {
        "colab": {
          "base_uri": "https://localhost:8080/"
        },
        "id": "3iJh0NBdvpaK",
        "outputId": "c28041b9-3c2d-4698-d0ee-270a71c43091"
      },
      "outputs": [
        {
          "data": {
            "text/plain": [
              "==========================================================================================\n",
              "Layer (type:depth-idx)                   Output Shape              Param #\n",
              "==========================================================================================\n",
              "FeedforwardNeuralNetModel                [100, 1, 10]              --\n",
              "├─Linear: 1-1                            [100, 1, 100]             78,500\n",
              "├─Sigmoid: 1-2                           [100, 1, 100]             --\n",
              "├─Linear: 1-3                            [100, 1, 10]              1,010\n",
              "==========================================================================================\n",
              "Total params: 79,510\n",
              "Trainable params: 79,510\n",
              "Non-trainable params: 0\n",
              "Total mult-adds (M): 7.95\n",
              "==========================================================================================\n",
              "Input size (MB): 0.31\n",
              "Forward/backward pass size (MB): 0.09\n",
              "Params size (MB): 0.32\n",
              "Estimated Total Size (MB): 0.72\n",
              "=========================================================================================="
            ]
          },
          "execution_count": 55,
          "metadata": {},
          "output_type": "execute_result"
        }
      ],
      "source": [
        "input_dim = 28 * 28\n",
        "hidden_dim = 100\n",
        "output_dim = 10 # 10 Dígitos\n",
        "\n",
        "model = FeedforwardNeuralNetModel(input_dim, hidden_dim, output_dim).to(device)\n",
        "\n",
        "# Descripción del modelo\n",
        "summary(model, input_size=(batch_size, 1, input_dim))"
      ]
    },
    {
      "cell_type": "markdown",
      "metadata": {
        "id": "glFEVgb2wJRL"
      },
      "source": [
        "Función de coste"
      ]
    },
    {
      "cell_type": "code",
      "execution_count": 56,
      "metadata": {
        "id": "38SoApLVwGjy"
      },
      "outputs": [],
      "source": [
        "criterion = nn.CrossEntropyLoss()"
      ]
    },
    {
      "cell_type": "markdown",
      "metadata": {
        "id": "2wcvAtnXwerJ"
      },
      "source": [
        "### Optimizador"
      ]
    },
    {
      "cell_type": "code",
      "execution_count": 57,
      "metadata": {
        "id": "nR6Qab2qwXZS"
      },
      "outputs": [],
      "source": [
        "learning_rate = 0.1\n",
        "optimizer = torch.optim.SGD(model.parameters(), lr=learning_rate) "
      ]
    },
    {
      "cell_type": "markdown",
      "metadata": {
        "id": "vfSogVSQwiIS"
      },
      "source": [
        "### Entrenamiento del modelo"
      ]
    },
    {
      "cell_type": "code",
      "execution_count": 58,
      "metadata": {
        "colab": {
          "base_uri": "https://localhost:8080/"
        },
        "id": "sKJYAY5o6PpW",
        "outputId": "5fb5c1f1-4db6-44e0-85e8-7c9415e3845d"
      },
      "outputs": [
        {
          "name": "stdout",
          "output_type": "stream",
          "text": [
            "Number of epochs: 100\n",
            "Batch size: 100\n"
          ]
        }
      ],
      "source": [
        "# Info\n",
        "print(f'Number of epochs: {num_epochs}')\n",
        "print(f'Batch size: {batch_size}')"
      ]
    },
    {
      "cell_type": "code",
      "execution_count": 59,
      "metadata": {
        "colab": {
          "base_uri": "https://localhost:8080/"
        },
        "id": "1jtdR9Eiw_Hh",
        "outputId": "475120ed-b1c8-49b0-89e5-c190d2e193a2"
      },
      "outputs": [
        {
          "name": "stderr",
          "output_type": "stream",
          "text": [
            "100%|██████████| 100/100 [11:21<00:00,  6.82s/it]\n"
          ]
        }
      ],
      "source": [
        "epochs = 100 # Número de épocas\n",
        "\n",
        "losses_train = []\n",
        "losses_test = []\n",
        "n_iter = 0\n",
        "\n",
        "early_stop = True # Early stop\n",
        "best_test_loss = np.inf\n",
        "patience = 10\n",
        "trigger_times = 0\n",
        "\n",
        "for epoch in tqdm(range(epochs)):\n",
        "    n_iter = n_iter + 1\n",
        "    model.train() # Establecer el modo entrenamiento\n",
        "\n",
        "    # for loop going through dataset\n",
        "    running_train_loss = 0\n",
        "\n",
        "    for i, data in enumerate(train_loader):\n",
        "        x = data[0].to(device).view(-1, 28 * 28).requires_grad_()\n",
        "        y = data[1].to(device)\n",
        "\n",
        "        # Borrar los gradientes con respecto a los parámetros\n",
        "        optimizer.zero_grad()\n",
        "\n",
        "        # inferencia\n",
        "        y_hat = model(x)\n",
        "\n",
        "        # función de coste\n",
        "        loss = criterion(y_hat, y)\n",
        "\n",
        "        running_train_loss += loss.item()\n",
        "\n",
        "        # backward\n",
        "        loss.backward()\n",
        "        optimizer.step()\n",
        "    \n",
        "    losses_train.append(running_train_loss / len(train_loader))\n",
        "    \n",
        "    model.eval()  # Modo evaluation\n",
        "\n",
        "    ###### Test\n",
        "    running_test_loss = 0.0\n",
        "    with torch.no_grad():\n",
        "        for i, data in enumerate(test_loader):\n",
        "            # data preparation\n",
        "            x = data[0].to(device).view(-1, 28 * 28).requires_grad_()\n",
        "            y = data[1].to(device)\n",
        "\n",
        "            y_hat = model(x)\n",
        "\n",
        "            # función de coste en el conjunto de test\n",
        "            loss = criterion(y_hat, y)\n",
        "\n",
        "            running_test_loss += loss.item()\n",
        "\n",
        "        losses_test.append(running_test_loss / len(test_loader))\n",
        "        \n",
        "        if early_stop:\n",
        "          if running_test_loss >= best_test_loss:\n",
        "              trigger_times = trigger_times + 1\n",
        "              if trigger_times >= patience:\n",
        "                  break\n",
        "              elif running_test_loss < best_test_loss:\n",
        "                  best_val_loss = running_test_loss\n",
        "\n",
        "torch.save(model.state_dict(), './model.cpkt') # Guardar modelo\n",
        "                "
      ]
    },
    {
      "cell_type": "code",
      "execution_count": 60,
      "metadata": {
        "colab": {
          "base_uri": "https://localhost:8080/",
          "height": 337
        },
        "id": "5oXoDnOurGf-",
        "outputId": "44527c1e-8c7c-4377-938b-001e91fa0dc1"
      },
      "outputs": [
        {
          "data": {
            "image/png": "[encoded data removed]",
            "text/plain": [
              "<Figure size 576x360 with 1 Axes>"
            ]
          },
          "metadata": {
            "needs_background": "light"
          },
          "output_type": "display_data"
        }
      ],
      "source": [
        "plt.figure(figsize=(8, 5))\n",
        "plt.plot(losses_train, label='Train')\n",
        "plt.plot(losses_test, label='Test')\n",
        "plt.xlabel('Loss')\n",
        "plt.xlabel('Epoch')\n",
        "plt.legend()\n",
        "plt.show()"
      ]
    },
    {
      "cell_type": "markdown",
      "metadata": {
        "id": "YTx_MU3gq5px"
      },
      "source": [
        "### Cargar el modelo entrenado"
      ]
    },
    {
      "cell_type": "code",
      "execution_count": 61,
      "metadata": {
        "id": "tUBppf7QpgI6"
      },
      "outputs": [],
      "source": [
        "model.load_state_dict(torch.load('./model.cpkt'))\n",
        "model = model.to(device)"
      ]
    },
    {
      "cell_type": "markdown",
      "metadata": {
        "id": "BHVX8Yzzq9d0"
      },
      "source": [
        "### Evaluación del modelo"
      ]
    },
    {
      "cell_type": "code",
      "execution_count": 62,
      "metadata": {
        "id": "iK4RZBNswS1I"
      },
      "outputs": [],
      "source": [
        "y_actual = []\n",
        "y_pred = []\n",
        "with torch.no_grad():\n",
        "    for i, data in enumerate(test_loader):\n",
        "        x = data[0].to(device).view(-1, 28 * 28).requires_grad_()\n",
        "        y = data[1].to(device)\n",
        "\n",
        "        out = model(x)\n",
        "        _, y_hat = torch.max(out, 1)\n",
        "\n",
        "        y_actual = y_actual + list(y.detach().cpu().numpy())\n",
        "        y_pred = y_pred + list(y_hat.detach().cpu().numpy())"
      ]
    },
    {
      "cell_type": "code",
      "execution_count": 63,
      "metadata": {
        "colab": {
          "base_uri": "https://localhost:8080/"
        },
        "id": "zkFgbjFbhFUV",
        "outputId": "05fc933e-2d3e-4745-ead1-c79103204576"
      },
      "outputs": [
        {
          "name": "stdout",
          "output_type": "stream",
          "text": [
            "              precision    recall  f1-score   support\n",
            "\n",
            "           0       0.97      0.99      0.98       980\n",
            "           1       0.99      0.99      0.99      1135\n",
            "           2       0.97      0.98      0.97      1032\n",
            "           3       0.97      0.98      0.98      1010\n",
            "           4       0.98      0.97      0.98       982\n",
            "           5       0.98      0.97      0.97       892\n",
            "           6       0.98      0.98      0.98       958\n",
            "           7       0.97      0.97      0.97      1028\n",
            "           8       0.98      0.97      0.97       974\n",
            "           9       0.97      0.97      0.97      1009\n",
            "\n",
            "    accuracy                           0.98     10000\n",
            "   macro avg       0.98      0.98      0.98     10000\n",
            "weighted avg       0.98      0.98      0.98     10000\n",
            "\n"
          ]
        }
      ],
      "source": [
        " print(classification_report(y_actual, y_pred, target_names=list(np.unique(y_actual).astype(str))))"
      ]
    }
  ],
  "metadata": {
    "accelerator": "GPU",
    "colab": {
      "provenance": []
    },
    "gpuClass": "standard",
    "kernelspec": {
      "display_name": "Python 3.9.7 64-bit",
      "language": "python",
      "name": "python3"
    },
    "language_info": {
      "name": "python",
      "version": "3.9.7"
    },
    "vscode": {
      "interpreter": {
        "hash": "aee8b7b246df8f9039afb4144a1f6fd8d2ca17a180786b69acc140d282b71a49"
      }
    }
  },
  "nbformat": 4,
  "nbformat_minor": 0
}
