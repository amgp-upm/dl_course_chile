{
  "cells": [
    {
      "cell_type": "markdown",
      "metadata": {
        "id": "XA1t7v3Yl7Ah"
      },
      "source": [
        "[![Open In Colab](https://colab.research.google.com/assets/colab-badge.svg)](https://colab.research.google.com/github/amgp-upm/dl_course_chile/blob/main/3_FeedforwardNeural.ipynb)"
      ]
    },
    {
      "cell_type": "code",
      "execution_count": 1,
      "metadata": {
        "id": "rguRYkSxeQFu"
      },
      "outputs": [],
      "source": [
        "import torch\n",
        "import torch.nn as nn\n",
        "import torchvision.transforms as transforms\n",
        "import torchvision.datasets as datasets\n",
        "from torch.utils.data import random_split, SubsetRandomSampler\n",
        "\n",
        "try:\n",
        "    from torchinfo import summary\n",
        "except ImportError:\n",
        "    ! pip install torchinfo\n",
        "    from torchinfo import summary\n",
        "\n",
        "import numpy as np\n",
        "import matplotlib.pyplot as plt\n",
        "from tqdm import tqdm\n",
        "import random\n",
        "import os\n",
        "\n",
        "from sklearn.metrics import classification_report\n",
        "from sklearn.metrics import confusion_matrix, ConfusionMatrixDisplay"
      ]
    },
    {
      "cell_type": "code",
      "execution_count": 2,
      "metadata": {
        "id": "P0uySfitp5Zl"
      },
      "outputs": [],
      "source": [
        "def set_all_seeds(seed=23):\n",
        "  random.seed(seed)\n",
        "  np.random.seed(seed)\n",
        "  torch.manual_seed(seed)\n",
        "  torch.cuda.manual_seed(seed)\n",
        "  torch.backends.cudnn.deterministic = True"
      ]
    },
    {
      "cell_type": "code",
      "execution_count": 3,
      "metadata": {
        "id": "HCpC7Hk1qEk6"
      },
      "outputs": [],
      "source": [
        "set_all_seeds()"
      ]
    },
    {
      "cell_type": "markdown",
      "metadata": {
        "id": "vANzcP3KuakJ"
      },
      "source": [
        "### Descarga del dataset"
      ]
    },
    {
      "cell_type": "code",
      "execution_count": 4,
      "metadata": {
        "colab": {
          "base_uri": "https://localhost:8080/"
        },
        "id": "NFLlh8SjeazV",
        "outputId": "3d7700e3-6b07-4808-b2d0-b9bebdbb21ca"
      },
      "outputs": [
        {
          "name": "stdout",
          "output_type": "stream",
          "text": [
            "# Train images: 55000\n",
            "# Validation images: 5000\n",
            "# Test images: 10000\n"
          ]
        }
      ],
      "source": [
        "train_dataset = datasets.MNIST(root='./data', train=True, \n",
        "                               transform=transforms.ToTensor(), download=True)\n",
        "\n",
        "test_dataset = datasets.MNIST(root='./data', train=False, \n",
        "                              transform=transforms.ToTensor(), download=True)\n",
        "\n",
        "# Dividir el conjunto de datos de entrenamiento para obtener el de validación\n",
        "train_dataset, val_dataset = random_split(train_dataset, [55000, 5000])\n",
        "\n",
        "num_train_images = len(train_dataset)\n",
        "num_val_images = len(val_dataset)\n",
        "num_test_images = len(test_dataset)\n",
        "\n",
        "print(f'# Train images: {num_train_images}')\n",
        "print(f'# Validation images: {num_val_images}')\n",
        "print(f'# Test images: {num_test_images}')"
      ]
    },
    {
      "cell_type": "code",
      "execution_count": 5,
      "metadata": {
        "colab": {
          "base_uri": "https://localhost:8080/"
        },
        "id": "0_TKAnccqMHd",
        "outputId": "fd16d36a-e8bd-4197-b980-2f93562b15af"
      },
      "outputs": [
        {
          "name": "stdout",
          "output_type": "stream",
          "text": [
            "Label 0: 5476\n",
            "Label 1: 6178\n",
            "Label 2: 5489\n",
            "Label 3: 5632\n",
            "Label 4: 5332\n",
            "Label 5: 4950\n",
            "Label 6: 5414\n",
            "Label 7: 5717\n",
            "Label 8: 5382\n",
            "Label 9: 5430\n"
          ]
        }
      ],
      "source": [
        "labels_train = np.array([train_dataset[idx][1] for idx in \n",
        "                         range(len(train_dataset))])\n",
        "\n",
        "for l in np.unique(labels_train):\n",
        "    print(f'Label {l}: {np.sum(labels_train == l)}')"
      ]
    },
    {
      "cell_type": "markdown",
      "metadata": {
        "id": "oQivtINXugh6"
      },
      "source": [
        "### Visualización de un ejemplo de un ejemplo"
      ]
    },
    {
      "cell_type": "code",
      "execution_count": 6,
      "metadata": {
        "colab": {
          "base_uri": "https://localhost:8080/",
          "height": 281
        },
        "id": "xM3DPjNzenL3",
        "outputId": "63caac1c-32bd-4924-f3f3-735c98324181"
      },
      "outputs": [
        {
          "data": {
            "image/png": "[encoded data removed]",
            "text/plain": [
              "<Figure size 432x288 with 1 Axes>"
            ]
          },
          "metadata": {
            "needs_background": "light"
          },
          "output_type": "display_data"
        }
      ],
      "source": [
        "idx = np.random.choice(range(num_train_images))\n",
        "\n",
        "image = train_dataset[idx][0]\n",
        "label = train_dataset[idx][1]\n",
        "\n",
        "plt.imshow(np.squeeze(image.numpy()), cmap='gray')\n",
        "plt.title(f'Label: {label}')\n",
        "plt.show()"
      ]
    },
    {
      "cell_type": "markdown",
      "metadata": {
        "id": "cBI0aHsju8cF"
      },
      "source": [
        "### Dataloader\n",
        "\n",
        "El DataLoader es una herramienta importante para preparar, gestionar y servir los datos a las redes de aprendizaje profundo. "
      ]
    },
    {
      "cell_type": "code",
      "execution_count": 7,
      "metadata": {
        "id": "FrGtP69xgajE"
      },
      "outputs": [],
      "source": [
        "batch_size = 100\n",
        "num_epochs = 100\n",
        "run_dry = False # Si True solamente utiliza una pequeña parte del conjunto de datos.\n",
        "\n",
        "if run_dry:\n",
        "    train_sampler = SubsetRandomSampler(range(len(train_dataset))[:batch_size * 2])\n",
        "    val_sampler = SubsetRandomSampler(range(len(val_dataset))[:batch_size * 2])\n",
        "    test_sampler = SubsetRandomSampler(range(len(test_dataset))[:batch_size * 2])\n",
        "    train_loader = torch.utils.data.DataLoader(dataset=train_dataset, \n",
        "                                              batch_size=batch_size, \n",
        "                                              sampler=train_sampler)\n",
        "    val_loader = torch.utils.data.DataLoader(dataset=val_dataset, \n",
        "                                             batch_size=batch_size, \n",
        "                                             shuffle=False, \n",
        "                                             sampler=val_sampler)\n",
        "    test_loader = torch.utils.data.DataLoader(dataset=test_dataset, \n",
        "                                              batch_size=batch_size, \n",
        "                                              shuffle=False, \n",
        "                                              sampler=test_sampler)\n",
        "else:\n",
        "    train_loader = torch.utils.data.DataLoader(dataset=train_dataset, \n",
        "                                              batch_size=batch_size, \n",
        "                                               shuffle=True) \n",
        "    val_loader = torch.utils.data.DataLoader(dataset=val_dataset,\n",
        "                                             batch_size=batch_size, \n",
        "                                             shuffle=False)\n",
        "    test_loader = torch.utils.data.DataLoader(dataset=test_dataset, \n",
        "                                              batch_size=batch_size, \n",
        "                                              shuffle=False)"
      ]
    },
    {
      "cell_type": "markdown",
      "metadata": {
        "id": "mBlBxF0SuXAl"
      },
      "source": [
        "### Visualización de ejemplos aleatorios de un batch"
      ]
    },
    {
      "cell_type": "code",
      "execution_count": 8,
      "metadata": {
        "colab": {
          "base_uri": "https://localhost:8080/",
          "height": 408
        },
        "id": "CyKH_Zs7rHco",
        "outputId": "c3b5d061-f19a-403f-d77b-ccbb494218de"
      },
      "outputs": [
        {
          "data": {
            "image/png": "[encoded data removed]",
            "text/plain": [
              "<Figure size 1440x576 with 10 Axes>"
            ]
          },
          "metadata": {
            "needs_background": "light"
          },
          "output_type": "display_data"
        }
      ],
      "source": [
        "num_samples = 10\n",
        "rand_samples = np.random.choice(batch_size, num_samples)\n",
        "\n",
        "batch = next(iter(train_loader))\n",
        "images, labels = batch\n",
        "\n",
        "fig = plt.figure(figsize=(20, 8))\n",
        "for i in range(num_samples):\n",
        "    image = np.squeeze(images[i].numpy())\n",
        "    label = labels[i]\n",
        "    ax = fig.add_subplot(2, 5, i+1)\n",
        "    ax.set_title(f\"Label: {label}\")\n",
        "    ax.axis('off')\n",
        "    ax.imshow(image, cmap='gray')\n",
        "plt.show()"
      ]
    },
    {
      "cell_type": "markdown",
      "metadata": {
        "id": "_jj1p460vlN3"
      },
      "source": [
        "### Modelo"
      ]
    },
    {
      "cell_type": "code",
      "execution_count": 9,
      "metadata": {
        "id": "kESx_-9Jrbfg"
      },
      "outputs": [],
      "source": [
        "class FeedforwardNeuralNetModel(nn.Module):\n",
        "    def __init__(self, input_dim, hidden_dim, output_dim):\n",
        "        super(FeedforwardNeuralNetModel, self).__init__()\n",
        "        self.fc1 = nn.Linear(input_dim, hidden_dim) \n",
        "        self.sigmoid = nn.Sigmoid()\n",
        "        self.fc2 = nn.Linear(hidden_dim, output_dim)  \n",
        "\n",
        "    def forward(self, x):\n",
        "        out = self.fc1(x)\n",
        "        out = self.sigmoid(out)\n",
        "        out = self.fc2(out)\n",
        "        return out"
      ]
    },
    {
      "cell_type": "markdown",
      "metadata": {
        "id": "EP8IWNB4v66j"
      },
      "source": [
        "Intanciación del modelo"
      ]
    },
    {
      "cell_type": "code",
      "execution_count": 10,
      "metadata": {
        "colab": {
          "base_uri": "https://localhost:8080/"
        },
        "id": "rfmPzO5H0UkN",
        "outputId": "634ece87-ea5d-432c-a17a-d014190e644e"
      },
      "outputs": [
        {
          "name": "stdout",
          "output_type": "stream",
          "text": [
            "Forma de cálculo: cpu\n"
          ]
        }
      ],
      "source": [
        "device = torch.device(\"cuda:0\" if torch.cuda.is_available() else \"cpu\")\n",
        "print(f'Forma de cálculo: {device}')\n",
        "\n",
        "set_all_seeds()"
      ]
    },
    {
      "cell_type": "code",
      "execution_count": 11,
      "metadata": {
        "colab": {
          "base_uri": "https://localhost:8080/"
        },
        "id": "3iJh0NBdvpaK",
        "outputId": "001f6f87-9483-4767-fd00-7c28c0c1637f"
      },
      "outputs": [
        {
          "data": {
            "text/plain": [
              "==========================================================================================\n",
              "Layer (type:depth-idx)                   Output Shape              Param #\n",
              "==========================================================================================\n",
              "FeedforwardNeuralNetModel                [100, 1, 10]              --\n",
              "├─Linear: 1-1                            [100, 1, 100]             78,500\n",
              "├─Sigmoid: 1-2                           [100, 1, 100]             --\n",
              "├─Linear: 1-3                            [100, 1, 10]              1,010\n",
              "==========================================================================================\n",
              "Total params: 79,510\n",
              "Trainable params: 79,510\n",
              "Non-trainable params: 0\n",
              "Total mult-adds (M): 7.95\n",
              "==========================================================================================\n",
              "Input size (MB): 0.31\n",
              "Forward/backward pass size (MB): 0.09\n",
              "Params size (MB): 0.32\n",
              "Estimated Total Size (MB): 0.72\n",
              "=========================================================================================="
            ]
          },
          "execution_count": 11,
          "metadata": {},
          "output_type": "execute_result"
        }
      ],
      "source": [
        "input_dim = 28 * 28\n",
        "hidden_dim = 100\n",
        "output_dim = 10 # 10 Dígitos\n",
        "\n",
        "model = FeedforwardNeuralNetModel(input_dim, hidden_dim, output_dim).to(device)\n",
        "\n",
        "# Descripción del modelo\n",
        "summary(model, input_size=(batch_size, 1, input_dim))"
      ]
    },
    {
      "cell_type": "markdown",
      "metadata": {
        "id": "glFEVgb2wJRL"
      },
      "source": [
        "Función de coste"
      ]
    },
    {
      "cell_type": "code",
      "execution_count": 12,
      "metadata": {
        "id": "38SoApLVwGjy"
      },
      "outputs": [],
      "source": [
        "criterion = nn.CrossEntropyLoss()"
      ]
    },
    {
      "cell_type": "markdown",
      "metadata": {
        "id": "2wcvAtnXwerJ"
      },
      "source": [
        "### Optimizador"
      ]
    },
    {
      "cell_type": "code",
      "execution_count": 13,
      "metadata": {
        "id": "nR6Qab2qwXZS"
      },
      "outputs": [],
      "source": [
        "learning_rate = 0.1\n",
        "optimizer = torch.optim.SGD(model.parameters(), lr=learning_rate) "
      ]
    },
    {
      "cell_type": "markdown",
      "metadata": {
        "id": "vfSogVSQwiIS"
      },
      "source": [
        "### Entrenamiento del modelo"
      ]
    },
    {
      "cell_type": "code",
      "execution_count": 14,
      "metadata": {
        "colab": {
          "base_uri": "https://localhost:8080/"
        },
        "id": "sKJYAY5o6PpW",
        "outputId": "17ec7b15-a996-4691-fcb9-a10bfa7614cb"
      },
      "outputs": [
        {
          "name": "stdout",
          "output_type": "stream",
          "text": [
            "Number of epochs: 100\n",
            "Batch size: 100\n"
          ]
        }
      ],
      "source": [
        "# Info\n",
        "print(f'Number of epochs: {num_epochs}')\n",
        "print(f'Batch size: {batch_size}')"
      ]
    },
    {
      "cell_type": "code",
      "execution_count": 15,
      "metadata": {
        "colab": {
          "base_uri": "https://localhost:8080/"
        },
        "id": "1jtdR9Eiw_Hh",
        "outputId": "6e8bec46-32ce-4a27-ec93-e22fa5354e99"
      },
      "outputs": [
        {
          "name": "stderr",
          "output_type": "stream",
          "text": [
            " 89%|████████▉ | 89/100 [11:49<01:27,  7.97s/it]\n"
          ]
        }
      ],
      "source": [
        "epochs = 100 # Número de épocas\n",
        "\n",
        "losses_train = []\n",
        "losses_val = []\n",
        "n_iter = 0\n",
        "\n",
        "best_val_loss = np.inf\n",
        "patience = 10\n",
        "trigger_times = 0\n",
        "\n",
        "for epoch in tqdm(range(epochs)):\n",
        "    n_iter = n_iter + 1\n",
        "    model.train() # Establecer el modo entrenamiento\n",
        "\n",
        "    # for loop going through dataset\n",
        "    running_train_loss = 0\n",
        "\n",
        "    for i, data in enumerate(train_loader):\n",
        "        x = data[0].to(device).view(-1, 28 * 28)\n",
        "        y = data[1].to(device)\n",
        "\n",
        "        # Borrar los gradientes con respecto a los parámetros\n",
        "        optimizer.zero_grad()\n",
        "\n",
        "        # inferencia\n",
        "        y_hat = model(x)\n",
        "\n",
        "        # función de coste\n",
        "        loss = criterion(y_hat, y)\n",
        "\n",
        "        running_train_loss += loss.item()\n",
        "\n",
        "        # backward\n",
        "        loss.backward()\n",
        "        optimizer.step()\n",
        "    \n",
        "    losses_train.append(running_train_loss / len(train_loader))\n",
        "    \n",
        "    model.eval()  # Modo evaluation\n",
        "\n",
        "    ###### Test\n",
        "    running_val_loss = 0.0\n",
        "    with torch.no_grad():\n",
        "        for i, data in enumerate(val_loader):\n",
        "            # data preparation\n",
        "            x = data[0].to(device).view(-1, 28 * 28)\n",
        "            y = data[1].to(device)\n",
        "\n",
        "            y_hat = model(x)\n",
        "\n",
        "            # función de coste en el conjunto de test\n",
        "            loss = criterion(y_hat, y)\n",
        "\n",
        "            running_val_loss += loss.item()\n",
        "\n",
        "        losses_val.append(running_val_loss / len(val_loader))\n",
        "        \n",
        "        # Early stopping\n",
        "        if running_val_loss >= best_val_loss:\n",
        "            trigger_times = trigger_times + 1\n",
        "            if trigger_times >= patience:\n",
        "              break\n",
        "        elif running_val_loss < best_val_loss:\n",
        "            best_val_loss = running_val_loss\n",
        "            torch.save(model.state_dict(), './model.cpkt') # Guardar modelo\n",
        "                "
      ]
    },
    {
      "cell_type": "code",
      "execution_count": 16,
      "metadata": {
        "colab": {
          "base_uri": "https://localhost:8080/",
          "height": 334
        },
        "id": "5oXoDnOurGf-",
        "outputId": "b0e06018-0f26-4f14-8ba9-530e445c12e9"
      },
      "outputs": [
        {
          "data": {
            "image/png": "[encoded data removed]",
            "text/plain": [
              "<Figure size 576x360 with 1 Axes>"
            ]
          },
          "metadata": {
            "needs_background": "light"
          },
          "output_type": "display_data"
        }
      ],
      "source": [
        "plt.figure(figsize=(8, 5))\n",
        "plt.plot(losses_train, label='Train')\n",
        "plt.plot(losses_val, label='Validation')\n",
        "plt.xlabel('Loss')\n",
        "plt.xlabel('Epoch')\n",
        "plt.legend()\n",
        "plt.show()"
      ]
    },
    {
      "cell_type": "markdown",
      "metadata": {
        "id": "YTx_MU3gq5px"
      },
      "source": [
        "### Cargar el modelo entrenado"
      ]
    },
    {
      "cell_type": "code",
      "execution_count": 17,
      "metadata": {
        "id": "tUBppf7QpgI6"
      },
      "outputs": [],
      "source": [
        "model.load_state_dict(torch.load('./model.cpkt'))\n",
        "model = model.to(device)"
      ]
    },
    {
      "cell_type": "markdown",
      "metadata": {
        "id": "BHVX8Yzzq9d0"
      },
      "source": [
        "### Evaluación del modelo"
      ]
    },
    {
      "cell_type": "code",
      "execution_count": 18,
      "metadata": {
        "id": "iK4RZBNswS1I"
      },
      "outputs": [],
      "source": [
        "y_actual = []\n",
        "y_pred = []\n",
        "with torch.no_grad():\n",
        "    for i, data in enumerate(test_loader):\n",
        "        x = data[0].to(device).view(-1, 28 * 28)\n",
        "        y = data[1].to(device)\n",
        "\n",
        "        out = model(x)\n",
        "        _, y_hat = torch.max(out, 1)\n",
        "\n",
        "        y_actual = y_actual + list(y.detach().cpu().numpy())\n",
        "        y_pred = y_pred + list(y_hat.detach().cpu().numpy())"
      ]
    },
    {
      "cell_type": "code",
      "execution_count": 19,
      "metadata": {
        "colab": {
          "base_uri": "https://localhost:8080/"
        },
        "id": "zkFgbjFbhFUV",
        "outputId": "5da26a99-54f6-4bac-8c15-f5f55ae4ca2e"
      },
      "outputs": [
        {
          "name": "stdout",
          "output_type": "stream",
          "text": [
            "              precision    recall  f1-score   support\n",
            "\n",
            "           0       0.97      0.99      0.98       980\n",
            "           1       0.99      0.99      0.99      1135\n",
            "           2       0.97      0.97      0.97      1032\n",
            "           3       0.97      0.98      0.97      1010\n",
            "           4       0.97      0.97      0.97       982\n",
            "           5       0.98      0.97      0.97       892\n",
            "           6       0.98      0.98      0.98       958\n",
            "           7       0.97      0.97      0.97      1028\n",
            "           8       0.97      0.97      0.97       974\n",
            "           9       0.97      0.96      0.96      1009\n",
            "\n",
            "    accuracy                           0.97     10000\n",
            "   macro avg       0.97      0.97      0.97     10000\n",
            "weighted avg       0.97      0.97      0.97     10000\n",
            "\n"
          ]
        }
      ],
      "source": [
        "print(classification_report(y_actual, y_pred, target_names=list(np.unique(y_actual).astype(str))))"
      ]
    },
    {
      "cell_type": "code",
      "execution_count": 20,
      "metadata": {
        "colab": {
          "base_uri": "https://localhost:8080/",
          "height": 280
        },
        "id": "8xv1IV8C4snI",
        "outputId": "a52ff563-106d-4959-93bf-75a028e0c909"
      },
      "outputs": [
        {
          "data": {
            "image/png": "[encoded data removed]",
            "text/plain": [
              "<Figure size 432x288 with 2 Axes>"
            ]
          },
          "metadata": {
            "needs_background": "light"
          },
          "output_type": "display_data"
        }
      ],
      "source": [
        "cm = confusion_matrix(y_actual, y_pred)\n",
        "disp = ConfusionMatrixDisplay(confusion_matrix=cm)\n",
        "disp.plot()\n",
        "plt.show()"
      ]
    }
  ],
  "metadata": {
    "accelerator": "GPU",
    "colab": {
      "provenance": []
    },
    "gpuClass": "standard",
    "kernelspec": {
      "display_name": "Python 3.9.7 64-bit",
      "language": "python",
      "name": "python3"
    },
    "language_info": {
      "name": "python",
      "version": "3.9.7"
    },
    "vscode": {
      "interpreter": {
        "hash": "aee8b7b246df8f9039afb4144a1f6fd8d2ca17a180786b69acc140d282b71a49"
      }
    }
  },
  "nbformat": 4,
  "nbformat_minor": 0
}
