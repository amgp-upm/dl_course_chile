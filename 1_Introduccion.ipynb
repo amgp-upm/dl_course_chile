{
  "cells": [
    {
      "cell_type": "markdown",
      "metadata": {},
      "source": [
        "[![Open In Colab](https://colab.research.google.com/assets/colab-badge.svg)](https://colab.research.google.com/github/amgp-upm/dl_course_chile/blob/main/1_Introduccion.ipynb)"
      ]
    },
    {
      "cell_type": "code",
      "execution_count": 1,
      "metadata": {
        "id": "cQ5fNR5Rip85"
      },
      "outputs": [],
      "source": [
        "import torch\n",
        "import numpy as np\n",
        "import matplotlib.pyplot as plt"
      ]
    },
    {
      "cell_type": "markdown",
      "metadata": {
        "id": "N4tGTZ4TsFay"
      },
      "source": [
        "### Matrices y Tensores"
      ]
    },
    {
      "cell_type": "code",
      "execution_count": 2,
      "metadata": {
        "colab": {
          "base_uri": "https://localhost:8080/"
        },
        "id": "BNTF2Rf8sE8P",
        "outputId": "5eda8116-5619-4740-d213-b8fb4ad830f6"
      },
      "outputs": [
        {
          "data": {
            "text/plain": [
              "(array([[1., 1., 1.],\n",
              "        [1., 1., 1.]]), numpy.ndarray)"
            ]
          },
          "execution_count": 2,
          "metadata": {},
          "output_type": "execute_result"
        }
      ],
      "source": [
        "x = np.ones([2, 3], dtype=np.double)\n",
        "x, type(x)"
      ]
    },
    {
      "cell_type": "code",
      "execution_count": 3,
      "metadata": {
        "colab": {
          "base_uri": "https://localhost:8080/"
        },
        "id": "qIRnW71tsdXK",
        "outputId": "d1e6e921-1dff-435d-fabb-ca651428419f"
      },
      "outputs": [
        {
          "data": {
            "text/plain": [
              "(tensor([[1., 1., 1.],\n",
              "         [1., 1., 1.]]), torch.Tensor)"
            ]
          },
          "execution_count": 3,
          "metadata": {},
          "output_type": "execute_result"
        }
      ],
      "source": [
        "x = torch.ones(2, 3)\n",
        "x, type(x)"
      ]
    },
    {
      "cell_type": "code",
      "execution_count": 4,
      "metadata": {
        "colab": {
          "base_uri": "https://localhost:8080/"
        },
        "id": "2O9jlu0js8UK",
        "outputId": "e1e8efd7-93ef-44e8-a968-00a06698dbad"
      },
      "outputs": [
        {
          "data": {
            "text/plain": [
              "(tensor([[1., 1., 1.],\n",
              "         [1., 1., 1.]]), torch.Tensor)"
            ]
          },
          "execution_count": 4,
          "metadata": {},
          "output_type": "execute_result"
        }
      ],
      "source": [
        "# covertir un numpy.ndarray en torch.Tensor\n",
        "x = torch.Tensor(np.ones([2, 3]))\n",
        "x, type(x)"
      ]
    },
    {
      "cell_type": "code",
      "execution_count": 5,
      "metadata": {
        "colab": {
          "base_uri": "https://localhost:8080/"
        },
        "id": "ptPn7I0VtM-Q",
        "outputId": "8169608e-18cb-438b-a1e1-3e1211423158"
      },
      "outputs": [
        {
          "data": {
            "text/plain": [
              "(array([[1., 1., 1.],\n",
              "        [1., 1., 1.]], dtype=float32), numpy.ndarray)"
            ]
          },
          "execution_count": 5,
          "metadata": {},
          "output_type": "execute_result"
        }
      ],
      "source": [
        "# covertir un torch.Tensor en numpy.ndarray\n",
        "x = torch.ones(2, 3).numpy()\n",
        "x, type(x)"
      ]
    },
    {
      "cell_type": "markdown",
      "metadata": {
        "id": "nHTXYzgQuX0v"
      },
      "source": [
        "### Tipos de datos y equivalencias entre numpy y torch\n",
        "\n",
        "| NumPy Array Type | Torch Tensor Type | \n",
        "| --- | --- | \n",
        "| int64 | LongTensor | \n",
        "| int32 | IntegerTensor | \n",
        "| uint8 | ByteTensor | \n",
        "| float64 | DoubleTensor | \n",
        "| float32 | FloatTensor | \n",
        "| double | DoubleTensor | "
      ]
    },
    {
      "cell_type": "markdown",
      "metadata": {
        "id": "yh-_WX4Jm4nT"
      },
      "source": [
        "### Importacia de establecer una semilla\n",
        "Como se trabaja con números pseudo-aleatorios es importante establecer una semilla para garantizar la reproducibilidad de los resultados."
      ]
    },
    {
      "cell_type": "code",
      "execution_count": 6,
      "metadata": {
        "colab": {
          "base_uri": "https://localhost:8080/"
        },
        "id": "yUE_ccohmc7D",
        "outputId": "667ec63a-266d-4469-ac45-f552f6773bdb"
      },
      "outputs": [
        {
          "name": "stdout",
          "output_type": "stream",
          "text": [
            "Primera ejecución: [0.55942596 0.64535207 0.97417797 0.72485776 0.55252142]\n",
            "Segunda ejecución: [0.89233855 0.42224173 0.75861541 0.85263623 0.94843956]\n"
          ]
        }
      ],
      "source": [
        "# resultados de la generación de números \"aleatorios\" en numpy\n",
        "print(f'Primera ejecución: {np.random.rand(5)}')\n",
        "print(f'Segunda ejecución: {np.random.rand(5)}')"
      ]
    },
    {
      "cell_type": "code",
      "execution_count": 7,
      "metadata": {
        "colab": {
          "base_uri": "https://localhost:8080/"
        },
        "id": "KuZcZF6Fnru9",
        "outputId": "e09afb2a-4d0d-4f83-ecc9-432c4c38bde2"
      },
      "outputs": [
        {
          "name": "stdout",
          "output_type": "stream",
          "text": [
            "Primera ejecución: [0.51729788 0.9469626  0.76545976 0.28239584 0.22104536]\n",
            "Segunda ejecución: [0.51729788 0.9469626  0.76545976 0.28239584 0.22104536]\n"
          ]
        }
      ],
      "source": [
        "# Ahora estableciendo una semilla antes de cada ejecución\n",
        "np.random.seed(23)\n",
        "print(f'Primera ejecución: {np.random.rand(5)}')\n",
        "np.random.seed(23)\n",
        "print(f'Segunda ejecución: {np.random.rand(5)}')"
      ]
    },
    {
      "cell_type": "code",
      "execution_count": 8,
      "metadata": {
        "colab": {
          "base_uri": "https://localhost:8080/"
        },
        "id": "G9dFbxkEoLzI",
        "outputId": "3a6d2f39-c419-4993-b865-d37267e50613"
      },
      "outputs": [
        {
          "name": "stdout",
          "output_type": "stream",
          "text": [
            "Primera ejecución: tensor([0.0889, 0.5281, 0.2305, 0.9543, 0.7977])\n",
            "Segunda ejecución: tensor([0.3030, 0.4848, 0.2452, 0.2176, 0.5230])\n"
          ]
        }
      ],
      "source": [
        "# Ahora con PyTorch\n",
        "print(f'Primera ejecución: {torch.rand(5)}')\n",
        "print(f'Segunda ejecución: {torch.rand(5)}')"
      ]
    },
    {
      "cell_type": "code",
      "execution_count": 9,
      "metadata": {
        "colab": {
          "base_uri": "https://localhost:8080/"
        },
        "id": "8lPQ8paPrjP0",
        "outputId": "604087d3-ed17-421b-eef7-5af7d0315444"
      },
      "outputs": [
        {
          "name": "stdout",
          "output_type": "stream",
          "text": [
            "Primera ejecución: tensor([0.4283, 0.2889, 0.4224, 0.3571, 0.9577])\n",
            "Segunda ejecución: tensor([0.4283, 0.2889, 0.4224, 0.3571, 0.9577])\n"
          ]
        }
      ],
      "source": [
        "torch.manual_seed(23)\n",
        "print(f'Primera ejecución: {torch.rand(5)}')\n",
        "torch.manual_seed(23)\n",
        "print(f'Segunda ejecución: {torch.rand(5)}')"
      ]
    },
    {
      "cell_type": "markdown",
      "metadata": {
        "id": "Xe6AaZeywAb3"
      },
      "source": [
        "### Operaciones con tensores"
      ]
    },
    {
      "cell_type": "code",
      "execution_count": 10,
      "metadata": {
        "colab": {
          "base_uri": "https://localhost:8080/"
        },
        "id": "6zf7cQKOmV2i",
        "outputId": "c44a50f9-7593-4e41-8cc1-20fbfdcaafc4"
      },
      "outputs": [
        {
          "name": "stdout",
          "output_type": "stream",
          "text": [
            "tensor([[1., 1.],\n",
            "        [1., 1.],\n",
            "        [1., 1.]])\n",
            "tensor([[2., 2.],\n",
            "        [2., 2.],\n",
            "        [2., 2.]])\n"
          ]
        }
      ],
      "source": [
        "a = torch.ones(3, 2)\n",
        "b = torch.ones(3, 2) * 2\n",
        "print(a)\n",
        "print(b)"
      ]
    },
    {
      "cell_type": "markdown",
      "metadata": {
        "id": "9Iks76NTxYMM"
      },
      "source": [
        "Obtener tamaño"
      ]
    },
    {
      "cell_type": "code",
      "execution_count": 11,
      "metadata": {
        "colab": {
          "base_uri": "https://localhost:8080/"
        },
        "id": "_6pSlp2WxHAo",
        "outputId": "36fc15d9-bc8c-40e8-b9e1-3eb3d5d03e3a"
      },
      "outputs": [
        {
          "name": "stdout",
          "output_type": "stream",
          "text": [
            "torch.Size([3, 2]) torch.Size([3, 2])\n"
          ]
        }
      ],
      "source": [
        "print(a.size(), b.size())"
      ]
    },
    {
      "cell_type": "markdown",
      "metadata": {
        "id": "TO41iMx_xlm8"
      },
      "source": [
        "Cambiar el tamaño "
      ]
    },
    {
      "cell_type": "code",
      "execution_count": 12,
      "metadata": {
        "colab": {
          "base_uri": "https://localhost:8080/"
        },
        "id": "BQCC975jxaYv",
        "outputId": "1dab30c7-64aa-47bc-9306-f129701b6b91"
      },
      "outputs": [
        {
          "name": "stdout",
          "output_type": "stream",
          "text": [
            "tensor([1., 1., 1., 1., 1., 1.]) torch.Size([6])\n",
            "tensor([[[1.],\n",
            "         [1.],\n",
            "         [1.]],\n",
            "\n",
            "        [[1.],\n",
            "         [1.],\n",
            "         [1.]]]) torch.Size([2, 3, 1])\n"
          ]
        }
      ],
      "source": [
        "print(a.view(6), a.view(6).size())\n",
        "print(a.view(2,3,1), a.view(2,3,1).size())"
      ]
    },
    {
      "cell_type": "markdown",
      "metadata": {
        "id": "2oHKF_3myF0G"
      },
      "source": [
        "Suma y resta elemento a elemento"
      ]
    },
    {
      "cell_type": "code",
      "execution_count": 13,
      "metadata": {
        "colab": {
          "base_uri": "https://localhost:8080/"
        },
        "id": "b7Q3VvgSyHgM",
        "outputId": "6442f4bc-5ee4-47fb-b253-ad89ad2ab6e3"
      },
      "outputs": [
        {
          "name": "stdout",
          "output_type": "stream",
          "text": [
            "tensor([[3., 3.],\n",
            "        [3., 3.],\n",
            "        [3., 3.]])\n",
            "tensor([[3., 3.],\n",
            "        [3., 3.],\n",
            "        [3., 3.]])\n"
          ]
        }
      ],
      "source": [
        "c = a + b\n",
        "print(c)\n",
        "c = torch.add(a, b)\n",
        "print(c)"
      ]
    },
    {
      "cell_type": "code",
      "execution_count": 14,
      "metadata": {
        "colab": {
          "base_uri": "https://localhost:8080/"
        },
        "id": "BYOTOHAI5UI6",
        "outputId": "c363db51-04a5-4228-ecbf-9b4510755d43"
      },
      "outputs": [
        {
          "name": "stdout",
          "output_type": "stream",
          "text": [
            "tensor([[-1., -1.],\n",
            "        [-1., -1.],\n",
            "        [-1., -1.]])\n",
            "tensor([[-1., -1.],\n",
            "        [-1., -1.],\n",
            "        [-1., -1.]])\n"
          ]
        }
      ],
      "source": [
        "c = a - b\n",
        "print(c)\n",
        "c = torch.subtract(a, b)\n",
        "print(c)"
      ]
    },
    {
      "cell_type": "markdown",
      "metadata": {
        "id": "MDvp5WM76G_u"
      },
      "source": [
        "Multiplicación y división elemento a elemento"
      ]
    },
    {
      "cell_type": "code",
      "execution_count": 15,
      "metadata": {
        "colab": {
          "base_uri": "https://localhost:8080/"
        },
        "id": "9lNTKvUa6GKB",
        "outputId": "dba0b641-330c-4c17-edf0-f18bf8b5e324"
      },
      "outputs": [
        {
          "name": "stdout",
          "output_type": "stream",
          "text": [
            "tensor([[2., 2.],\n",
            "        [2., 2.],\n",
            "        [2., 2.]])\n",
            "tensor([[2., 2.],\n",
            "        [2., 2.],\n",
            "        [2., 2.]])\n"
          ]
        }
      ],
      "source": [
        "c = a * b\n",
        "print(c)\n",
        "c = torch.mul(a, b)\n",
        "print(c)"
      ]
    },
    {
      "cell_type": "code",
      "execution_count": 16,
      "metadata": {
        "colab": {
          "base_uri": "https://localhost:8080/"
        },
        "id": "EUC7wjjl6oct",
        "outputId": "174e471d-5e2c-491b-c358-17872f9bf505"
      },
      "outputs": [
        {
          "name": "stdout",
          "output_type": "stream",
          "text": [
            "tensor([[0.5000, 0.5000],\n",
            "        [0.5000, 0.5000],\n",
            "        [0.5000, 0.5000]])\n",
            "tensor([[0.5000, 0.5000],\n",
            "        [0.5000, 0.5000],\n",
            "        [0.5000, 0.5000]])\n"
          ]
        }
      ],
      "source": [
        "c = a / b\n",
        "print(c)\n",
        "c = torch.div(a, b)\n",
        "print(c)"
      ]
    },
    {
      "cell_type": "markdown",
      "metadata": {
        "id": "lfxXGeF9_4fu"
      },
      "source": [
        "Valor medio. \n"
      ]
    },
    {
      "cell_type": "code",
      "execution_count": 17,
      "metadata": {
        "colab": {
          "base_uri": "https://localhost:8080/"
        },
        "id": "KUs3G1Xq_6HW",
        "outputId": "6a61f556-caaf-4ac7-e9f6-f6dd72b05022"
      },
      "outputs": [
        {
          "name": "stdout",
          "output_type": "stream",
          "text": [
            "tensor(1.)\n",
            "tensor(1.)\n",
            "tensor([1., 1., 1.]) torch.Size([3])\n",
            "tensor([1., 1.]) torch.Size([2])\n"
          ]
        }
      ],
      "source": [
        "a = torch.ones(2, 3)\n",
        "\n",
        "# Nota: Se puede calcular a partir de todos los valores \n",
        "\n",
        "print(torch.mean(a)) \n",
        "print(a.mean())\n",
        "\n",
        "# Nota: Se puede definir la dimensión a reducir.\n",
        "\n",
        "x = a.mean(dim=0) \n",
        "print(x, x.size())\n",
        "\n",
        "x = a.mean(dim=1) \n",
        "print(x, x.size())"
      ]
    },
    {
      "cell_type": "markdown",
      "metadata": {
        "id": "ebugn-tO5L-2"
      },
      "source": [
        "### Gradiente"
      ]
    },
    {
      "cell_type": "markdown",
      "metadata": {
        "id": "815I6wty7X0u"
      },
      "source": [
        "Ecuación a derivar $y_i=4(x_i+2)^2$\n",
        "\n",
        "Derivada $\\frac{dy_i}{dx_i}=8x_i+16$"
      ]
    },
    {
      "cell_type": "code",
      "execution_count": 18,
      "metadata": {
        "colab": {
          "base_uri": "https://localhost:8080/"
        },
        "id": "rTlv-Dz06_2C",
        "outputId": "42c87845-4c7a-417a-d7d7-1acb786b6d54"
      },
      "outputs": [
        {
          "data": {
            "text/plain": [
              "tensor([1., 4., 7.], requires_grad=True)"
            ]
          },
          "execution_count": 18,
          "metadata": {},
          "output_type": "execute_result"
        }
      ],
      "source": [
        "x = torch.Tensor((1, 4, 7)).requires_grad_()\n",
        "x"
      ]
    },
    {
      "cell_type": "code",
      "execution_count": 19,
      "metadata": {
        "colab": {
          "base_uri": "https://localhost:8080/"
        },
        "id": "-bIHHacCl5mT",
        "outputId": "965353be-c8d0-49f9-855a-8c1810c7b03e"
      },
      "outputs": [
        {
          "name": "stdout",
          "output_type": "stream",
          "text": [
            "Funcion valuada: tensor([ 36., 144., 324.], grad_fn=<MulBackward0>)\n"
          ]
        }
      ],
      "source": [
        "y = 4 * (x + 2) ** 2\n",
        "\n",
        "print(f'Funcion valuada: {y}')"
      ]
    },
    {
      "cell_type": "markdown",
      "metadata": {
        "id": "ZKtFdMIS_Dxj"
      },
      "source": [
        "Derivada obtenida por PyTorch mediante la función Backward. Ésta solo debe invocarse sobre un escalar (es decir, un tensor de 1 elemento). Para ello se calculará el valor medio.\n"
      ]
    },
    {
      "cell_type": "code",
      "execution_count": 20,
      "metadata": {
        "colab": {
          "base_uri": "https://localhost:8080/"
        },
        "id": "KP4PWWUE-NU1",
        "outputId": "f925cfee-81ff-4a09-a1fc-0ded64981452"
      },
      "outputs": [
        {
          "name": "stdout",
          "output_type": "stream",
          "text": [
            "tensor(168., grad_fn=<MeanBackward0>)\n"
          ]
        }
      ],
      "source": [
        "o = torch.mean(y)\n",
        "print(o)"
      ]
    },
    {
      "cell_type": "markdown",
      "metadata": {
        "id": "pHrA0Mx2Eg1R"
      },
      "source": [
        "Esto cambiaría la ecuación a derivar\n",
        "Ecuación a derivar $y_i=4(x_i+2)^2$\n",
        "\n",
        "output = $\\frac{1}{3}\\sum_i=4(x_i+2)^2$\n",
        "\n",
        "$\\frac{\\partial o}{\\partial x_i}=\\frac{1}{3}(8x_i+16)$"
      ]
    },
    {
      "cell_type": "code",
      "execution_count": 21,
      "metadata": {
        "colab": {
          "base_uri": "https://localhost:8080/"
        },
        "id": "B7Osc1mwCtiR",
        "outputId": "406883d4-de95-4457-e40e-2bac9c207818"
      },
      "outputs": [
        {
          "name": "stdout",
          "output_type": "stream",
          "text": [
            "tensor([ 8., 16., 24.])\n"
          ]
        }
      ],
      "source": [
        "o.backward()\n",
        "print(x.grad)"
      ]
    }
  ],
  "metadata": {
    "colab": {
      "provenance": []
    },
    "kernelspec": {
      "display_name": "Python 3",
      "name": "python3"
    },
    "language_info": {
      "name": "python"
    }
  },
  "nbformat": 4,
  "nbformat_minor": 0
}
