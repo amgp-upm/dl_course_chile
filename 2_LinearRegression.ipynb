{
  "cells": [
    {
      "cell_type": "markdown",
      "metadata": {},
      "source": [
        "[![Open In Colab](https://colab.research.google.com/assets/colab-badge.svg)](https://colab.research.google.com/github/amgp-upm/dl_course_chile/blob/main/2_LinearRegression.ipynb)"
      ]
    },
    {
      "cell_type": "code",
      "execution_count": 53,
      "metadata": {
        "id": "bYUaFk3GHdAo"
      },
      "outputs": [],
      "source": [
        "import torch\n",
        "import torch.nn as nn\n",
        "import numpy as np\n",
        "import matplotlib.pyplot as plt\n",
        "from tqdm import tqdm"
      ]
    },
    {
      "cell_type": "markdown",
      "metadata": {
        "id": "9jEJPQOSIiE0"
      },
      "source": [
        "### Regresión lineal\n",
        "\n"
      ]
    },
    {
      "cell_type": "markdown",
      "metadata": {
        "id": "8T2CpYPbKbeO"
      },
      "source": [
        "**Model lineal**\n",
        "\n",
        "Equación verdadera: $y=4x+2$"
      ]
    },
    {
      "cell_type": "code",
      "execution_count": 34,
      "metadata": {
        "id": "1_u0CCa6Ke9q"
      },
      "outputs": [],
      "source": [
        "x = np.arange(11)\n",
        "y = 4 * x + 2 "
      ]
    },
    {
      "cell_type": "code",
      "execution_count": 35,
      "metadata": {
        "colab": {
          "base_uri": "https://localhost:8080/",
          "height": 279
        },
        "id": "Q34woSIFKz7T",
        "outputId": "f234134d-6086-4ff8-b547-c572e9db03ab"
      },
      "outputs": [
        {
          "data": {
            "image/png": "[encoded data removed]",
            "text/plain": [
              "<Figure size 432x288 with 1 Axes>"
            ]
          },
          "metadata": {
            "needs_background": "light"
          },
          "output_type": "display_data"
        }
      ],
      "source": [
        "plt.scatter(x, y)\n",
        "plt.xlabel('x')\n",
        "plt.xlabel('y')\n",
        "plt.show()"
      ]
    },
    {
      "cell_type": "code",
      "execution_count": 36,
      "metadata": {
        "colab": {
          "base_uri": "https://localhost:8080/"
        },
        "id": "xprFoNbYLgP3",
        "outputId": "6335f336-e923-4929-e602-f2ad2f8b48c7"
      },
      "outputs": [
        {
          "name": "stdout",
          "output_type": "stream",
          "text": [
            "(11, 1)\n",
            "(11, 1)\n"
          ]
        }
      ],
      "source": [
        "x_train = np.array(x, dtype=np.float32)\n",
        "x_train = x_train.reshape(-1, 1) # Es necesario modificar la forma del vector\n",
        "print(x_train.shape)\n",
        "\n",
        "y_train = np.array(y, dtype=np.float32)\n",
        "y_train = y_train.reshape(-1, 1) # Es necesario modificar la forma del vector\n",
        "print(y_train.shape)"
      ]
    },
    {
      "cell_type": "markdown",
      "metadata": {
        "id": "RWmkibdrIqxn"
      },
      "source": [
        "Ver el dispositivo disponible para hacer los cálculos."
      ]
    },
    {
      "cell_type": "code",
      "execution_count": 37,
      "metadata": {
        "colab": {
          "base_uri": "https://localhost:8080/"
        },
        "id": "bEVF8OYuIWnv",
        "outputId": "e2b1bf90-78c6-4d47-9e0d-d6135fef1645"
      },
      "outputs": [
        {
          "name": "stdout",
          "output_type": "stream",
          "text": [
            "Forma de cálculo: cpu\n"
          ]
        }
      ],
      "source": [
        "device = torch.device(\"cuda:0\" if torch.cuda.is_available() else \"cpu\")\n",
        "print(f'Forma de cálculo: {device}')"
      ]
    },
    {
      "cell_type": "markdown",
      "metadata": {
        "id": "IxarDDE-JqoH"
      },
      "source": [
        "Definición del modelo: $y_i=mx_i+b$"
      ]
    },
    {
      "cell_type": "code",
      "execution_count": 38,
      "metadata": {
        "id": "QUjChZAuJpIk"
      },
      "outputs": [],
      "source": [
        "class LinearRegressionModel(nn.Module):\n",
        "    def __init__(self, input_dim, output_dim, bias=True):\n",
        "        super(LinearRegressionModel, self).__init__()\n",
        "        self.linear = nn.Linear(input_dim, output_dim, bias=bias)  \n",
        "\n",
        "    def forward(self, x):\n",
        "        out = self.linear(x)\n",
        "        return out"
      ]
    },
    {
      "cell_type": "markdown",
      "metadata": {
        "id": "8N9N_CV7NBpF"
      },
      "source": [
        "Incialización del modelo"
      ]
    },
    {
      "cell_type": "code",
      "execution_count": 48,
      "metadata": {
        "id": "YIlT7uIANEtK"
      },
      "outputs": [],
      "source": [
        "input_dim = 1\n",
        "output_dim = 1\n",
        "\n",
        "torch.manual_seed(23)\n",
        "model = LinearRegressionModel(input_dim, output_dim)"
      ]
    },
    {
      "cell_type": "markdown",
      "metadata": {
        "id": "VVHtCk6UNNkk"
      },
      "source": [
        "Función de coste a minimizar: \n",
        "\n",
        "MSE Loss: Mean Squared Error\n",
        "\n",
        "$MSE=\\frac{1}{n}\\sum_i(\\hat{y_i}-y_i)^2$\n",
        "\n",
        "donde: $\\hat{y_i}$ es la predicción del modelo y $y_i$ es el valor real (target)."
      ]
    },
    {
      "cell_type": "code",
      "execution_count": 49,
      "metadata": {
        "id": "qjomtw9GNM-6"
      },
      "outputs": [],
      "source": [
        "criterion = nn.MSELoss()"
      ]
    },
    {
      "cell_type": "markdown",
      "metadata": {
        "id": "Mp1-E49KOJGZ"
      },
      "source": [
        "Configuración del Optimizador"
      ]
    },
    {
      "cell_type": "code",
      "execution_count": 50,
      "metadata": {
        "id": "QBmZs3PEOPkm"
      },
      "outputs": [],
      "source": [
        "learning_rate = 0.01\n",
        "\n",
        "optimizer = torch.optim.SGD(model.parameters(), lr=learning_rate)"
      ]
    },
    {
      "cell_type": "markdown",
      "metadata": {
        "id": "ysV2K4QEOTdR"
      },
      "source": [
        "Entrenamiento del modelo"
      ]
    },
    {
      "cell_type": "code",
      "execution_count": 60,
      "metadata": {
        "colab": {
          "base_uri": "https://localhost:8080/"
        },
        "id": "LDag0tWKOYf1",
        "outputId": "c387a8b7-f701-4ffb-8055-838293fa3ea9"
      },
      "outputs": [
        {
          "name": "stderr",
          "output_type": "stream",
          "text": [
            "Epoch: 100, loss: 0.001096: 100%|██████████| 100/100 [00:00<00:00, 215.02it/s]\n"
          ]
        }
      ],
      "source": [
        "epochs = 100 # Número de épocas\n",
        "pbar = tqdm(range(epochs))\n",
        "\n",
        "losses = []\n",
        "\n",
        "for epoch in pbar:\n",
        "    # variables en el dispositivo\n",
        "    inputs = torch.from_numpy(x_train).to(device) \n",
        "    labels = torch.from_numpy(y_train).to(device)\n",
        "\n",
        "    # Se borran los gradientes con respecto a los parámetros\n",
        "    optimizer.zero_grad() \n",
        "\n",
        "    # Inferencia del modelo para obtener las salidas\n",
        "    outputs = model(inputs)\n",
        "\n",
        "    # Calcular el coste\n",
        "    loss = criterion(outputs, labels)\n",
        "\n",
        "    # Obtener los gradientes con respecto a los parámetros\n",
        "    loss.backward()\n",
        "\n",
        "    # Actualizar los parametros\n",
        "    optimizer.step()\n",
        "\n",
        "    losses.append(loss.item())\n",
        "    # Logging\n",
        "    pbar.set_description(f'Epoch: {epoch + 1}, loss: {loss.item():.6f}')"
      ]
    },
    {
      "cell_type": "code",
      "execution_count": 58,
      "metadata": {
        "colab": {
          "base_uri": "https://localhost:8080/"
        },
        "id": "sfuJn4DkR4Vn",
        "outputId": "8b9abce8-afd5-4a15-d98f-0590ba1a0e4b"
      },
      "outputs": [
        {
          "name": "stdout",
          "output_type": "stream",
          "text": [
            "Parámetros encontrados: w = 4.027256965637207, b=1.810726523399353\n"
          ]
        }
      ],
      "source": [
        "print(f'Parámetros encontrados: w = {model.linear.weight.item()}, b={model.linear.bias.item()}')"
      ]
    },
    {
      "cell_type": "code",
      "execution_count": 63,
      "metadata": {
        "colab": {
          "base_uri": "https://localhost:8080/",
          "height": 279
        },
        "id": "vf5qrkroSO66",
        "outputId": "0659543c-3063-4deb-9470-ce4bea7f0d2d"
      },
      "outputs": [
        {
          "data": {
            "image/png": "[encoded data removed]",
            "text/plain": [
              "<Figure size 432x288 with 1 Axes>"
            ]
          },
          "metadata": {
            "needs_background": "light"
          },
          "output_type": "display_data"
        }
      ],
      "source": [
        "plt.plot(range(1, epochs + 1), losses)\n",
        "plt.xlabel('Epochs')\n",
        "plt.ylabel('Loss')\n",
        "plt.show()"
      ]
    },
    {
      "cell_type": "markdown",
      "metadata": {
        "id": "Z-CLDtYMWW_l"
      },
      "source": [
        "Inferencia del modelo entrenado"
      ]
    },
    {
      "cell_type": "code",
      "execution_count": 71,
      "metadata": {
        "colab": {
          "base_uri": "https://localhost:8080/",
          "height": 279
        },
        "id": "4UmsQ7aLISlI",
        "outputId": "6e70bdcc-e74c-4e21-86e4-45c906365b2b"
      },
      "outputs": [
        {
          "data": {
            "image/png": "[encoded data removed]",
            "text/plain": [
              "<Figure size 432x288 with 1 Axes>"
            ]
          },
          "metadata": {
            "needs_background": "light"
          },
          "output_type": "display_data"
        }
      ],
      "source": [
        "predicted = model(torch.from_numpy(x_train).requires_grad_()).data.numpy()\n",
        "plt.scatter(x, y, label='True values', alpha=0.5)\n",
        "plt.plot(np.squeeze(x_train), np.squeeze(predicted), '--', label='Predictions', alpha=0.5) \n",
        "plt.xlabel('x')\n",
        "plt.xlabel('y')\n",
        "plt.legend()\n",
        "plt.show()"
      ]
    }
  ],
  "metadata": {
    "colab": {
      "provenance": []
    },
    "kernelspec": {
      "display_name": "Python 3.9.7 64-bit",
      "language": "python",
      "name": "python3"
    },
    "language_info": {
      "name": "python",
      "version": "3.9.7"
    },
    "vscode": {
      "interpreter": {
        "hash": "aee8b7b246df8f9039afb4144a1f6fd8d2ca17a180786b69acc140d282b71a49"
      }
    }
  },
  "nbformat": 4,
  "nbformat_minor": 0
}
